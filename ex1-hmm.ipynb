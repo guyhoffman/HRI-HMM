{
 "cells": [
  {
   "cell_type": "markdown",
   "metadata": {
    "colab_type": "text",
    "deletable": false,
    "editable": false,
    "id": "FiAD8Xbj17ot",
    "nbgrader": {
     "cell_type": "markdown",
     "checksum": "ac28c674322c81dd51ada4017edd1920",
     "grade": false,
     "grade_id": "cell-b873a7c3d981f24c",
     "locked": true,
     "schema_version": 3,
     "solution": false,
     "task": false
    }
   },
   "source": [
    "# Binary Hidden Markov Model Filtering\n",
    "\n",
    "In this notebook assignment, you will implement filtering on a simple HMM with binary states and evidence variables, walking through an example step-by-step.\n",
    "\n",
    "You will also learn how the HMM model can be represented as two matrices and subsequently both stages of filtering reduce to the efficient operation of matrix multiplication.\n",
    "\n",
    "You will implement all of your code in the `BinaryHMM` class located in `mae6710/binhmm.py`"
   ]
  },
  {
   "cell_type": "markdown",
   "metadata": {
    "deletable": false,
    "editable": false,
    "nbgrader": {
     "cell_type": "markdown",
     "checksum": "a5ea9909a146f6c6fbc71a8067bf6a2a",
     "grade": false,
     "grade_id": "cell-37ba562da91904e5",
     "locked": true,
     "schema_version": 3,
     "solution": false,
     "task": false
    }
   },
   "source": [
    "## Some Preliminary Settings and Imports "
   ]
  },
  {
   "cell_type": "code",
   "execution_count": null,
   "metadata": {
    "colab": {},
    "colab_type": "code",
    "deletable": false,
    "editable": false,
    "id": "250FHb0X17ov",
    "nbgrader": {
     "cell_type": "code",
     "checksum": "e0fff614678d702cdc8c63c08a49bd67",
     "grade": false,
     "grade_id": "cell-e0074d8960b2ba43",
     "locked": true,
     "schema_version": 3,
     "solution": false,
     "task": false
    }
   },
   "outputs": [],
   "source": [
    "# Autoreload your code when it changes, without having to restart the kernel\n",
    "%load_ext autoreload\n",
    "%autoreload 2\n",
    "\n",
    "import numpy as np\n",
    "from matplotlib import pyplot as plt\n",
    "\n",
    "from mae6710.binhmm import BinaryHMM"
   ]
  },
  {
   "cell_type": "markdown",
   "metadata": {
    "colab_type": "text",
    "deletable": false,
    "editable": false,
    "id": "lqAX0xiA17oz",
    "nbgrader": {
     "cell_type": "markdown",
     "checksum": "b4c5e3b44072266a5b81dc9d8c383f1c",
     "grade": false,
     "grade_id": "cell-05d1c1ce0364940c",
     "locked": true,
     "schema_version": 3,
     "solution": false,
     "task": false
    }
   },
   "source": [
    "## Set up the Model\n",
    "\n",
    "Let's take an example of whether your advisor hates you, which is the hidden variable. The evidence is whether they sent you a curt email. We will assume that their mood doesn't change throughout the day and that they send you one email per day. "
   ]
  },
  {
   "cell_type": "markdown",
   "metadata": {
    "deletable": false,
    "editable": false,
    "nbgrader": {
     "cell_type": "markdown",
     "checksum": "e259c015f82907d33e8f6b822b82ec49",
     "grade": false,
     "grade_id": "cell-1ebdd2e5471880ec",
     "locked": true,
     "schema_version": 3,
     "solution": false,
     "task": false
    }
   },
   "source": [
    "---\n",
    "### Initial Probabilities - $P(X_1)$\n",
    "\n",
    "Initially, we do not know anything about whether they hate you on Day 1 of the semester.\n",
    "\n",
    "$$\n",
    "P(X_1=hates) = 0.5\n",
    "$$\n",
    "And therefore\n",
    "$$\n",
    "P(X_1=\\neg hates) = 0.5\n",
    "$$\n",
    "\n",
    "In other words, we start with a uniform distribution about our Beliefs at time $t=1$. We will simplify by just writing $P(X_i=h)$ and $P(X_i=\\neg h)$."
   ]
  },
  {
   "cell_type": "markdown",
   "metadata": {
    "deletable": false,
    "editable": false,
    "nbgrader": {
     "cell_type": "markdown",
     "checksum": "2226d11882a4eaec5da6f90d732fe4c6",
     "grade": false,
     "grade_id": "cell-33c98aec09f6ca44",
     "locked": true,
     "schema_version": 3,
     "solution": false,
     "task": false
    }
   },
   "source": [
    "---\n",
    "### Transition Model - $P(X_{i+1}|X_i)$\n",
    "\n",
    "\n",
    "The good thing about this advisor is that they don't hold a grudge. Or, more likely, they don't remember stuff from one day to the next. This is lucky, because if they hate you at time $t=i$, you can't say much about $t=i+1$. It's a complete toss-up what will happen the next day.  \n",
    "\n",
    "Formally\n",
    "\n",
    "$$\n",
    "P(X_{i+1}=h | X_i=h) = 0.5 \\quad \\text{and therefore}  \\quad P(X_{i+1}=\\neg h | X_i=h) = 0.5 \\\\\n",
    "$$\n",
    "\n",
    "\n",
    "\n",
    "If they don't hate you at $t=i$, your odds are actually better the next day. The chance of them hating you all of a sudden are small, a mere 10%. \n",
    "\n",
    "\n",
    "$$\n",
    "P(X_{i+1}=h | X_i=\\neg h) = 0.1 \\quad \\text{and therefore}  \\quad  P(X_{i+1}=\\neg h | X_i=\\neg h) = 0.9 \n",
    "$$"
   ]
  },
  {
   "cell_type": "markdown",
   "metadata": {
    "deletable": false,
    "editable": false,
    "nbgrader": {
     "cell_type": "markdown",
     "checksum": "45abc7766c1e7807e8d513b1c259fd1c",
     "grade": false,
     "grade_id": "cell-7692bd2861a0ab1d",
     "locked": true,
     "schema_version": 3,
     "solution": false,
     "task": false
    }
   },
   "source": [
    "---\n",
    "### Evidence (Sensor) Model - $P(e_i|X_i)$\n",
    "\n",
    "The only way for us to guess if they hate us or not is based on whether they sent us a curt email. From talking to other students, we discover that there's a pattern to their email sending conditioned on their feelings for us. If they hate us, they are almost certain to sent us a curt email:\n",
    "\n",
    "$$\n",
    "P(e_i=curt | X_i=h) = 0.99 \\quad \\text{and therefore}  \\quad  P(e_i=\\neg curt | X_i=h) = 0.01 \\\\\n",
    "$$\n",
    "\n",
    "Again, we will shorten to $P(e_i=c)$.\n",
    "\n",
    "It turns out that if they don't hate us, they will still usually send a curt email, just because they're insanely busy. In fact that will happen 70% of the time they don't hate us.\n",
    "\n",
    "$$\n",
    "P(e_i=c | X_i=\\neg h) = 0.7 \\quad \\text{and therefore}  \\quad  P(e_i=\\neg c | \\ X_i=\\neg h) = 0.3 \\\\\n",
    "$$\n"
   ]
  },
  {
   "cell_type": "markdown",
   "metadata": {
    "deletable": false,
    "editable": false,
    "nbgrader": {
     "cell_type": "markdown",
     "checksum": "f2b6c68f2c1e5ef1e71bc00bf343702f",
     "grade": false,
     "grade_id": "cell-978cb4703b135a2e",
     "locked": true,
     "schema_version": 3,
     "solution": false,
     "task": false
    }
   },
   "source": [
    "### (a) Implement the initiatialization of your HMM class using the information above."
   ]
  },
  {
   "cell_type": "code",
   "execution_count": null,
   "metadata": {
    "colab": {},
    "colab_type": "code",
    "deletable": false,
    "id": "YD0jrCq617oz",
    "nbgrader": {
     "cell_type": "code",
     "checksum": "63b0fd6ad55b4676bc5d868fe3cf74c8",
     "grade": false,
     "grade_id": "cell-setup",
     "locked": false,
     "schema_version": 3,
     "solution": true,
     "task": false
    },
    "tags": []
   },
   "outputs": [],
   "source": [
    "startprob = None\n",
    "transmat = None\n",
    "emissionprob = None\n",
    "\n",
    "# Set up matrices representing the above model and store them in the above variables\n",
    "\n",
    "# YOUR CODE HERE\n",
    "raise NotImplementedError()"
   ]
  },
  {
   "cell_type": "markdown",
   "metadata": {
    "colab_type": "text",
    "deletable": false,
    "editable": false,
    "id": "0kcZKxaQ17o2",
    "nbgrader": {
     "cell_type": "markdown",
     "checksum": "1891ae5f193d62ee9f46a9e0b4bc50d5",
     "grade": false,
     "grade_id": "cell-07c53dd73f656450",
     "locked": true,
     "schema_version": 3,
     "solution": false,
     "task": false
    }
   },
   "source": [
    "The current belief $B(X_1)$ should be 50%-50%."
   ]
  },
  {
   "cell_type": "code",
   "execution_count": null,
   "metadata": {
    "colab": {
     "base_uri": "https://localhost:8080/",
     "height": 34
    },
    "colab_type": "code",
    "deletable": false,
    "editable": false,
    "id": "KkRwEat717o2",
    "nbgrader": {
     "cell_type": "code",
     "checksum": "e902a8f27debe23403e364f60a886554",
     "grade": true,
     "grade_id": "cell-initialbelief",
     "locked": true,
     "points": 1,
     "schema_version": 3,
     "solution": false,
     "task": false
    },
    "outputId": "826ecb64-1b0a-4555-be70-bea8128092ca",
    "tags": []
   },
   "outputs": [],
   "source": [
    "model = BinaryHMM(\"Hates\", startprob, transmat, emissionprob)\n",
    "model.print_belief()\n",
    "\n",
    "assert (model._belief == [0.5, 0.5]).all()"
   ]
  },
  {
   "cell_type": "markdown",
   "metadata": {
    "colab_type": "text",
    "deletable": false,
    "editable": false,
    "id": "5QUlvmF-17o7",
    "nbgrader": {
     "cell_type": "markdown",
     "checksum": "800b9c217f45f662d18f532486cf4824",
     "grade": false,
     "grade_id": "cell-582971cd4e4d29c9",
     "locked": true,
     "schema_version": 3,
     "solution": false,
     "task": false
    }
   },
   "source": [
    "# Time Passage / Dynamics\n",
    "\n",
    "You wait a day, and now have a new belief based on your Transition Model. This is $B^*(X_2)$, or the **intermediate** belief after time has passed, but **before** you got today's email. \n",
    "\n",
    "This time step belief update is given by\n",
    "\n",
    "$$\n",
    "B^*(X_{t+1}) = \\sum_{x_t} B(x_t)P(X_{t+1} | x_t)\n",
    "$$\n",
    "\n",
    "### (b) Show your calculation of this updated belief using the data listed above. "
   ]
  },
  {
   "cell_type": "markdown",
   "metadata": {
    "deletable": false,
    "nbgrader": {
     "cell_type": "markdown",
     "checksum": "3616f1d1800b0ef3ae8afb8c18db2f76",
     "grade": true,
     "grade_id": "cell-calc-transition",
     "locked": false,
     "points": 1,
     "schema_version": 3,
     "solution": true,
     "task": false
    },
    "tags": []
   },
   "source": [
    "YOUR ANSWER HERE"
   ]
  },
  {
   "cell_type": "markdown",
   "metadata": {
    "deletable": false,
    "editable": false,
    "nbgrader": {
     "cell_type": "markdown",
     "checksum": "82d7a6dc27b85bb6fd8dc63094fe1cf1",
     "grade": false,
     "grade_id": "cell-e3b2f266b61433ea",
     "locked": true,
     "schema_version": 3,
     "solution": false,
     "task": false
    }
   },
   "source": [
    "### (c) Now implement the `transition` function of the `BinaryHMM` class. \n",
    "\n",
    "Note that this calculation can be compactly represented as a dot product of the transition matrix and the previous day's belief. \n"
   ]
  },
  {
   "cell_type": "code",
   "execution_count": null,
   "metadata": {
    "deletable": false,
    "editable": false,
    "nbgrader": {
     "cell_type": "code",
     "checksum": "8ff9d3e0f7f49d2bc30cb4b57971b101",
     "grade": false,
     "grade_id": "cell-fbf72d6bd35b092b",
     "locked": true,
     "schema_version": 3,
     "solution": false,
     "task": false
    }
   },
   "outputs": [],
   "source": [
    "model.print_belief()"
   ]
  },
  {
   "cell_type": "code",
   "execution_count": null,
   "metadata": {
    "colab": {},
    "colab_type": "code",
    "deletable": false,
    "editable": false,
    "id": "RX8QJMNP17o7",
    "nbgrader": {
     "cell_type": "code",
     "checksum": "603c012bbd4a4d92d59be4e63800abc6",
     "grade": true,
     "grade_id": "cell-transition",
     "locked": true,
     "points": 1,
     "schema_version": 3,
     "solution": false,
     "task": false
    },
    "tags": []
   },
   "outputs": [],
   "source": [
    "# Test your implementation to see that it results in the correct belief\n",
    "model.transition()\n",
    "model.print_belief()\n",
    "\n"
   ]
  },
  {
   "cell_type": "markdown",
   "metadata": {
    "colab_type": "text",
    "deletable": false,
    "editable": false,
    "id": "FEcEJJ1l17o-",
    "nbgrader": {
     "cell_type": "markdown",
     "checksum": "9243587ec10d5d2bc72f1795ac19d0b4",
     "grade": false,
     "grade_id": "cell-7b3e6d1f9345a1ff",
     "locked": true,
     "schema_version": 3,
     "solution": false,
     "task": false
    }
   },
   "source": [
    "# Evidence Observation\n",
    "\n",
    "Now you got your daily email, and what do you know? It's curt. \n",
    "\n",
    "You want to update your belief based on the evidence and get $B(X_2)$\n",
    "\n",
    "This evidence-based belief update is done by re-weighing each of your belief values by the likelihood (the Bayesian \"flip\") of the evidence given the belief value. In other words, you take your intermediate belief $B^*(X_{t+1})$ and for each value you multiply it by the probability to have seen the specific evidence given that value, normalized by the posterior to sum up to 1.\n",
    "\n",
    "Formally:\n",
    "\n",
    "$$\n",
    "B(X_{t+1}) = \\frac{B^*(x_{t+1})P(e_{t+1} | x_{t+1})}{P(e_{t+1})}\n",
    "$$\n",
    "\n",
    "Remember that the denominator is just the sum of all the values for the numerator. "
   ]
  },
  {
   "cell_type": "markdown",
   "metadata": {
    "deletable": false,
    "editable": false,
    "nbgrader": {
     "cell_type": "markdown",
     "checksum": "ca8d8ef41daa37bb374933350a0fc4ab",
     "grade": false,
     "grade_id": "cell-d8de770eb3fc7a80",
     "locked": true,
     "schema_version": 3,
     "solution": false,
     "task": false
    }
   },
   "source": [
    "### (d) Show your calculation of this updated belief using the information listed above. "
   ]
  },
  {
   "cell_type": "markdown",
   "metadata": {
    "deletable": false,
    "nbgrader": {
     "cell_type": "markdown",
     "checksum": "3b0a54dce1c887fab228c10ba4eded7d",
     "grade": true,
     "grade_id": "cell-calc-evidence",
     "locked": false,
     "points": 1,
     "schema_version": 3,
     "solution": true,
     "task": false
    },
    "tags": []
   },
   "source": [
    "YOUR ANSWER HERE"
   ]
  },
  {
   "cell_type": "markdown",
   "metadata": {
    "deletable": false,
    "editable": false,
    "nbgrader": {
     "cell_type": "markdown",
     "checksum": "c2feaa4ac96e332f73b739e375d3f98f",
     "grade": false,
     "grade_id": "cell-dfa62ff2bfa32582",
     "locked": true,
     "schema_version": 3,
     "solution": false,
     "task": false
    }
   },
   "source": [
    "### (e) Now implement the `evidence` function of the `BinaryHMM` class."
   ]
  },
  {
   "cell_type": "code",
   "execution_count": null,
   "metadata": {
    "colab": {},
    "colab_type": "code",
    "deletable": false,
    "editable": false,
    "id": "T9unFNXZ17o_",
    "nbgrader": {
     "cell_type": "code",
     "checksum": "2d28dcbfacc23a6d54f9635a852aad13",
     "grade": true,
     "grade_id": "cell-evidence",
     "locked": true,
     "points": 1,
     "schema_version": 3,
     "solution": false,
     "task": false
    },
    "tags": []
   },
   "outputs": [],
   "source": [
    "model.evidence(True)\n",
    "model.print_belief()\n",
    "\n"
   ]
  },
  {
   "cell_type": "markdown",
   "metadata": {
    "colab_type": "text",
    "deletable": false,
    "editable": false,
    "id": "YUV8JabP17pC",
    "nbgrader": {
     "cell_type": "markdown",
     "checksum": "5e4fcf7a8543624e2bcf1ab5a6c99939",
     "grade": false,
     "grade_id": "cell-f14d13c55ad69fc1",
     "locked": true,
     "schema_version": 3,
     "solution": false,
     "task": false
    }
   },
   "source": [
    "### (f) Analyze these result and comment\n",
    "\n",
    "Did the evidence sway the outcome much? Why or why not? How did the transition model and the evidence affect the observed probabilities?  "
   ]
  },
  {
   "cell_type": "markdown",
   "metadata": {
    "deletable": false,
    "nbgrader": {
     "cell_type": "markdown",
     "checksum": "ce856abec2f8bd9ea43a07f397e655ae",
     "grade": true,
     "grade_id": "cell-analysis",
     "locked": false,
     "points": 1,
     "schema_version": 3,
     "solution": true,
     "task": false
    },
    "tags": []
   },
   "source": [
    "YOUR ANSWER HERE"
   ]
  },
  {
   "cell_type": "markdown",
   "metadata": {
    "deletable": false,
    "editable": false,
    "nbgrader": {
     "cell_type": "markdown",
     "checksum": "3b02270553d75279476c8babeb6482a8",
     "grade": false,
     "grade_id": "cell-804f5106ae43c244",
     "locked": true,
     "schema_version": 3,
     "solution": false,
     "task": false
    }
   },
   "source": [
    "Let's see what happens when we run this for twenty days, with you receiving a curt email every day."
   ]
  },
  {
   "cell_type": "code",
   "execution_count": null,
   "metadata": {
    "colab": {},
    "colab_type": "code",
    "deletable": false,
    "editable": false,
    "id": "sVyYmq5Y17pC",
    "nbgrader": {
     "cell_type": "code",
     "checksum": "84459652679270d5a988a62284e33831",
     "grade": false,
     "grade_id": "cell-569b6f1183694aa0",
     "locked": true,
     "schema_version": 3,
     "solution": false,
     "task": false
    }
   },
   "outputs": [],
   "source": [
    "# Reset the model\n",
    "model = BinaryHMM(\"Hates\", startprob, transmat, emissionprob)\n",
    "\n",
    "belief_seq = []\n",
    "for i in range(20):\n",
    "    \n",
    "    model.transition()\n",
    "    belief_seq.append(model._belief[0])\n",
    "\n",
    "    model.evidence(True)\n",
    "    belief_seq.append(model._belief[0])\n",
    "\n",
    "plt.plot(belief_seq, 'r-')\n",
    "plt.gca().set_ylim(0, .4)"
   ]
  },
  {
   "cell_type": "markdown",
   "metadata": {
    "colab_type": "text",
    "deletable": false,
    "editable": false,
    "id": "-NN96s6J17pF",
    "nbgrader": {
     "cell_type": "markdown",
     "checksum": "a0d40ea41d6db5fe9d316d193771a7de",
     "grade": false,
     "grade_id": "cell-f9b53e3d02c1ab44",
     "locked": true,
     "schema_version": 3,
     "solution": false,
     "task": false
    }
   },
   "source": [
    "Every day that passes the probability of hatred goes down ($B^*$ before evidence), and every curt email, it goes up. Eventually, your belief should settle on an oscillation between 0.21 and 0.27. This convergence is due to the fact that our evidence is constant. \n",
    "\n",
    "What would happen if we get a long email all of a sudden? Try to guess before running the code."
   ]
  },
  {
   "cell_type": "code",
   "execution_count": null,
   "metadata": {
    "colab": {},
    "colab_type": "code",
    "id": "Co-FTMUG17pG"
   },
   "outputs": [],
   "source": [
    "model.transition()\n",
    "belief_seq.append(model._belief[0])\n",
    "\n",
    "model.evidence(False)\n",
    "belief_seq.append(model._belief[0])\n",
    "\n",
    "plt.plot(belief_seq, '-r')\n",
    "plt.gca().set_ylim(0, .4)\n"
   ]
  },
  {
   "cell_type": "markdown",
   "metadata": {
    "colab_type": "text",
    "deletable": false,
    "editable": false,
    "id": "rWI0xQtw17pJ",
    "nbgrader": {
     "cell_type": "markdown",
     "checksum": "b0975aec16c1e07d3ae383be87b2852b",
     "grade": false,
     "grade_id": "cell-993dfb6c28b0c19b",
     "locked": true,
     "schema_version": 3,
     "solution": false,
     "task": false
    }
   },
   "source": [
    "You should see that since the likelihood of a long email when the advisor hates you is so low (0.01), even a single evidence of a long email drastically reduces the belief $B(X_t=h)$ to less than 0.01. Numerically speaking, this drop in probability happened when the likelihood of that event (long email given hate) was multiplied with the already low probability of the hidden state (hating).\n",
    "\n",
    "Now experiment with different sequences and models of the system. \n",
    "\n",
    "What happens if after one long email, responsese go back to being short? \n",
    "\n",
    "What if the advisor does hold grudges? How would you model that? \n",
    "\n",
    "What if they are likely to send long emails if they don't hate you? \n",
    "\n",
    "How do these change affect the dynamics of the inference system?\n",
    "\n",
    "Enjoy, and remember: your advisor is just busy!\n",
    "\n",
    "![Average time spent composing one e-mail](http://phdcomics.com/comics/archive/phd072508s.gif)\n"
   ]
  },
  {
   "cell_type": "code",
   "execution_count": null,
   "metadata": {
    "deletable": false,
    "editable": false,
    "nbgrader": {
     "cell_type": "code",
     "checksum": "a1f69e3b26f179d184e9e3816eb883bf",
     "grade": false,
     "grade_id": "cell-55147a59dab52624",
     "locked": true,
     "schema_version": 3,
     "solution": false,
     "task": false
    }
   },
   "outputs": [],
   "source": []
  }
 ],
 "metadata": {
  "colab": {
   "collapsed_sections": [],
   "name": "Binary HMM Filtering.ipynb",
   "provenance": [],
   "version": "0.3.2"
  },
  "kernelspec": {
   "display_name": "Python 3 (ipykernel)",
   "language": "python",
   "name": "python3"
  },
  "language_info": {
   "codemirror_mode": {
    "name": "ipython",
    "version": 3
   },
   "file_extension": ".py",
   "mimetype": "text/x-python",
   "name": "python",
   "nbconvert_exporter": "python",
   "pygments_lexer": "ipython3",
   "version": "3.12.4"
  }
 },
 "nbformat": 4,
 "nbformat_minor": 4
}
